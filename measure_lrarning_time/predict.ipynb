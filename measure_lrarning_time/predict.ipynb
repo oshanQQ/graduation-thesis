{
 "cells": [
  {
   "cell_type": "code",
   "execution_count": 13,
   "id": "baaedd36-9df1-4661-86fd-ce5934547fd6",
   "metadata": {},
   "outputs": [
    {
     "name": "stdout",
     "output_type": "stream",
     "text": [
      "Final MSE: 3.928136090679232\n",
      "Final RMSE: 1.9819525954672155\n"
     ]
    }
   ],
   "source": [
    "import pandas as pd\n",
    "import numpy as np\n",
    "from sklearn.model_selection import train_test_split\n",
    "from sklearn.linear_model import LinearRegression\n",
    "from sklearn.metrics import mean_squared_error\n",
    "\n",
    "MSE = 100\n",
    "RMSE = 10\n",
    "\n",
    "for _ in range(1, 1000):\n",
    "\n",
    "    # Load the data into a pandas dataframe\n",
    "    df = pd.read_csv(\"data.csv\")\n",
    "\n",
    "    # Split the data into features (X) and target (y)\n",
    "    X = df[['batch_size', 'epoch', 'memory_used']]\n",
    "    y = df['training_time']\n",
    "\n",
    "    # Split the data into training and test sets\n",
    "    X_train, X_test, y_train, y_test = train_test_split(X, y, test_size=0.2)\n",
    "\n",
    "    # Train the linear regression model\n",
    "    reg = LinearRegression().fit(X_train, y_train)\n",
    "\n",
    "    # Make predictions on the test data\n",
    "    y_pred = reg.predict(X_test)\n",
    "\n",
    "    # Evaluate the model using mean squared error\n",
    "    mse = mean_squared_error(y_test, y_pred)\n",
    "    # print(\"Mean Squared Error:\", mse)\n",
    "    rmse = np.sqrt(mse)\n",
    "    # print(\"Root Mean Squared Error:\", rmse)\n",
    "    if RMSE > rmse:\n",
    "        RMSE = rmse\n",
    "    if MSE > mse:\n",
    "        MSE = mse\n",
    "\n",
    "print(\"Final MSE:\", MSE)\n",
    "print(\"Final RMSE:\", RMSE)"
   ]
  }
 ],
 "metadata": {
  "kernelspec": {
   "display_name": "Python 3 (ipykernel)",
   "language": "python",
   "name": "python3"
  },
  "language_info": {
   "codemirror_mode": {
    "name": "ipython",
    "version": 3
   },
   "file_extension": ".py",
   "mimetype": "text/x-python",
   "name": "python",
   "nbconvert_exporter": "python",
   "pygments_lexer": "ipython3",
   "version": "3.10.5"
  }
 },
 "nbformat": 4,
 "nbformat_minor": 5
}
