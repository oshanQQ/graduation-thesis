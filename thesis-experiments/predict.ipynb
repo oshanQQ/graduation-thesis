{
 "cells": [
  {
   "cell_type": "code",
   "execution_count": 19,
   "id": "baaedd36-9df1-4661-86fd-ce5934547fd6",
   "metadata": {},
   "outputs": [
    {
     "name": "stdout",
     "output_type": "stream",
     "text": [
      "========================================\n",
      "mnist_classification\n",
      "\n",
      "MSE: 15.068411514542921\n",
      "RMSE: 3.8818051876083275\n",
      "========================================\n",
      "cifar10_classification\n",
      "\n",
      "MSE: 20.318021346529406\n",
      "RMSE: 4.507551591111233\n",
      "========================================\n",
      "cifar10_deep_classification\n",
      "\n",
      "MSE: 20.589759251161194\n",
      "RMSE: 4.537593993644781\n"
     ]
    }
   ],
   "source": [
    "import pandas as pd\n",
    "import numpy as np\n",
    "from sklearn.model_selection import train_test_split\n",
    "from sklearn.linear_model import LinearRegression\n",
    "from sklearn.metrics import mean_squared_error\n",
    "\n",
    "\n",
    "for task in [\"mnist_classification\", \"cifar10_classification\", \"cifar10_deep_classification\"]:\n",
    "    print(\"=\" * 40)\n",
    "    print(task)\n",
    "\n",
    "    # Load the data into a pandas dataframe\n",
    "    df = pd.read_csv(f\"training_data/{task}.csv\")\n",
    "\n",
    "    # Split the data into features (X) and target (y)\n",
    "    X = df[['batch_size', 'epoch', 'average_memory_utilization', 'average_gpu_utilization']]\n",
    "    y = df['training_time']\n",
    "\n",
    "    # Split the data into training and test sets\n",
    "    X_train, X_test, y_train, y_test = train_test_split(X, y, test_size=0.2)\n",
    "\n",
    "    # Train the linear regression model\n",
    "    reg = LinearRegression().fit(X_train, y_train)\n",
    "\n",
    "    # Make predictions on the test data\n",
    "    y_pred = reg.predict(X_test)\n",
    "\n",
    "    min_mse = 10000\n",
    "    min_rmse = 10000\n",
    "    for _ in range(1000):\n",
    "        # Evaluate the model using mean squared error\n",
    "        mse = mean_squared_error(y_test, y_pred)\n",
    "        if mse < min_mse:\n",
    "            min_mse = mse\n",
    "        min_rmse = np.sqrt(mse)\n",
    "    print(\"\\nMSE:\", min_mse)\n",
    "    print(\"RMSE:\", min_rmse)"
   ]
  },
  {
   "cell_type": "code",
   "execution_count": null,
   "id": "dcebddda-121c-4f0d-ab77-cd554f87839c",
   "metadata": {},
   "outputs": [],
   "source": []
  }
 ],
 "metadata": {
  "kernelspec": {
   "display_name": "Python 3",
   "language": "python",
   "name": "python3"
  },
  "language_info": {
   "codemirror_mode": {
    "name": "ipython",
    "version": 3
   },
   "file_extension": ".py",
   "mimetype": "text/x-python",
   "name": "python",
   "nbconvert_exporter": "python",
   "pygments_lexer": "ipython3",
   "version": "3.8.10"
  },
  "vscode": {
   "interpreter": {
    "hash": "916dbcbb3f70747c44a77c7bcd40155683ae19c65e1c03b4aa3499c5328201f1"
   }
  }
 },
 "nbformat": 4,
 "nbformat_minor": 5
}
