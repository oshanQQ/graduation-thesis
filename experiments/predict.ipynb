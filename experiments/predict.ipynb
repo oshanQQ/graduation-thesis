{
 "cells": [
  {
   "cell_type": "code",
   "execution_count": 6,
   "id": "6a329923-abee-4a11-817b-ec1f05518f43",
   "metadata": {},
   "outputs": [
    {
     "name": "stdout",
     "output_type": "stream",
     "text": [
      "2 layer perceptron\n",
      "========================================\n",
      "mnist_classification\n",
      "Test score:  0.9862480297843959\n",
      "========================================\n",
      "cifar10_classification\n",
      "Test score:  0.992166491854963\n",
      "========================================\n",
      "cifar10_deep_classification\n",
      "Test score:  0.9909746514297383\n",
      "========================================\n",
      "all_classification\n",
      "Test score:  0.969202426308048\n"
     ]
    }
   ],
   "source": [
    "import pandas as pd\n",
    "from sklearn.neural_network import MLPRegressor\n",
    "from sklearn.model_selection import train_test_split\n",
    "\n",
    "print(\"2 layer perceptron\")\n",
    "for task in [\"mnist_classification\", \"cifar10_classification\", \"cifar10_deep_classification\", \"all_classification\"]:\n",
    "    print(\"=\" * 40)\n",
    "    print(task)\n",
    "\n",
    "    # Load the data into a pandas dataframe\n",
    "    df = pd.read_csv(f\"training_data/{task}.csv\")\n",
    "\n",
    "    # Split the data into input features and target output\n",
    "    X = df[['batch_size', 'epoch', 'average_memory_utilization', 'average_gpu_utilization']]\n",
    "    y = df['training_time']\n",
    "\n",
    "    # Split the data into training and testing sets\n",
    "    X_train, X_test, y_train, y_test = train_test_split(X, y, test_size=0.2)\n",
    "\n",
    "    # Train a 2-layer perceptron model\n",
    "    mlp = MLPRegressor(hidden_layer_sizes=(100,), max_iter=100000)\n",
    "    mlp.fit(X_train, y_train)\n",
    "\n",
    "    # Calculate average score\n",
    "    total_score = 0\n",
    "    for _ in range(100):\n",
    "        # Evaluate the model on the test data\n",
    "        total_score += mlp.score(X_test, y_test)\n",
    "    print(\"Test score: \", total_score / 100)"
   ]
  },
  {
   "cell_type": "code",
   "execution_count": 7,
   "id": "fb6164ca-a242-44d4-a975-e550fa7d516f",
   "metadata": {},
   "outputs": [
    {
     "name": "stdout",
     "output_type": "stream",
     "text": [
      "3layer neural network\n",
      "========================================\n",
      "mnist_classification\n",
      "Test score:  0.9643597704499918\n",
      "========================================\n",
      "cifar10_classification\n",
      "Test score:  0.9901761503690619\n",
      "========================================\n",
      "cifar10_deep_classification\n",
      "Test score:  0.9868375556451429\n",
      "========================================\n",
      "all_classification\n",
      "Test score:  0.9666915463546956\n"
     ]
    }
   ],
   "source": [
    "import pandas as pd\n",
    "from sklearn.neural_network import MLPRegressor\n",
    "from sklearn.model_selection import train_test_split\n",
    "\n",
    "print(\"3layer neural network\")\n",
    "for task in [\"mnist_classification\", \"cifar10_classification\", \"cifar10_deep_classification\", \"all_classification\"]:\n",
    "    print(\"=\" * 40)\n",
    "    print(task)\n",
    "\n",
    "    # Load the data into a pandas dataframe\n",
    "    df = pd.read_csv(f\"training_data/{task}.csv\")\n",
    "\n",
    "    # Split the data into input features and target output\n",
    "    X = df[['batch_size', 'epoch', 'average_memory_utilization', 'average_gpu_utilization']]\n",
    "    y = df['training_time']\n",
    "\n",
    "    # Split the data into training and testing sets\n",
    "    X_train, X_test, y_train, y_test = train_test_split(X, y, test_size=0.2)\n",
    "\n",
    "    # Train a 3-layer perceptron model\n",
    "    mlp = MLPRegressor(hidden_layer_sizes=(100, 50, 20), max_iter=100000)\n",
    "    mlp.fit(X_train, y_train)\n",
    "\n",
    "    # Calculate average score\n",
    "    total_score = 0\n",
    "    for _ in range(100):\n",
    "        # Evaluate the model on the test data\n",
    "        total_score += mlp.score(X_test, y_test)\n",
    "    print(\"Test score: \", total_score / 100)"
   ]
  },
  {
   "cell_type": "code",
   "execution_count": null,
   "id": "6e0b5bdb-e99f-41d6-820d-afdc5a1fbd85",
   "metadata": {},
   "outputs": [],
   "source": []
  }
 ],
 "metadata": {
  "kernelspec": {
   "display_name": "Python 3 (ipykernel)",
   "language": "python",
   "name": "python3"
  },
  "language_info": {
   "codemirror_mode": {
    "name": "ipython",
    "version": 3
   },
   "file_extension": ".py",
   "mimetype": "text/x-python",
   "name": "python",
   "nbconvert_exporter": "python",
   "pygments_lexer": "ipython3",
   "version": "3.10.5"
  }
 },
 "nbformat": 4,
 "nbformat_minor": 5
}
