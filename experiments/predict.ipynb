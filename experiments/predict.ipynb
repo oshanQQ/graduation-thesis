{
 "cells": [
  {
   "cell_type": "code",
   "execution_count": 62,
   "id": "6a329923-abee-4a11-817b-ec1f05518f43",
   "metadata": {},
   "outputs": [
    {
     "name": "stdout",
     "output_type": "stream",
     "text": [
      "========================================\n",
      "mnist_classification\n",
      "RMSE: 6.299366661325611\n",
      "========================================\n",
      "cifar10_classification\n",
      "RMSE: 3.9622236874940806\n",
      "========================================\n",
      "cifar10_deep_classification\n",
      "RMSE: 3.7328166465166017\n"
     ]
    }
   ],
   "source": [
    "import pandas as pd\n",
    "import numpy as np\n",
    "from sklearn.model_selection import train_test_split\n",
    "from sklearn.linear_model import LinearRegression\n",
    "from sklearn.preprocessing import MinMaxScaler\n",
    "from sklearn.metrics import mean_squared_error\n",
    "\n",
    "for task in [\"mnist_classification\", \"cifar10_classification\", \"cifar10_deep_classification\"]:\n",
    "    print(\"=\" * 40)\n",
    "    print(task)\n",
    "\n",
    "    # Load the data into a pandas dataframe\n",
    "    df = pd.read_csv(f\"training_data/{task}.csv\")\n",
    "\n",
    "    # Normalize the data\n",
    "    scaler = MinMaxScaler()\n",
    "    df[['batch_size', 'epoch', 'average_memory_utilization', 'average_gpu_utilization']] = scaler.fit_transform(df[['batch_size', 'epoch', 'average_memory_utilization', 'average_gpu_utilization']])\n",
    "\n",
    "    # Create the weights for the independent variables\n",
    "    weights = np.array([0.75, 1, 0.25, 0.5])\n",
    "\n",
    "    # Multiply the independent variables by their corresponding weights\n",
    "    df['batch_size'] *= weights[0]\n",
    "    df['epoch'] *= weights[1]\n",
    "    df['average_memory_utilization'] *= weights[2]\n",
    "    df['average_gpu_utilization'] *= weights[3]\n",
    "\n",
    "    # Split the data into independent and dependent variables\n",
    "    X = df.drop(columns=['training_time'])\n",
    "    y = df['training_time']\n",
    "    \n",
    "    # Split the data into training and test sets\n",
    "    X_train, X_test, y_train, y_test = train_test_split(X, y, test_size=0.2)\n",
    "\n",
    "    # Create a linear regression model\n",
    "    model = LinearRegression()\n",
    "\n",
    "    # Fit the model to the data\n",
    "    model.fit(X_train, y_train)\n",
    "\n",
    "    # Predict the values on the test data\n",
    "    y_pred = model.predict(X_test)\n",
    "\n",
    "    # Calculate the mean squared error\n",
    "    mse = mean_squared_error(y_test, y_pred)\n",
    "    print(f\"RMSE: {np.sqrt(mse)}\")"
   ]
  }
 ],
 "metadata": {
  "kernelspec": {
   "display_name": "Python 3 (ipykernel)",
   "language": "python",
   "name": "python3"
  },
  "language_info": {
   "codemirror_mode": {
    "name": "ipython",
    "version": 3
   },
   "file_extension": ".py",
   "mimetype": "text/x-python",
   "name": "python",
   "nbconvert_exporter": "python",
   "pygments_lexer": "ipython3",
   "version": "3.10.5"
  }
 },
 "nbformat": 4,
 "nbformat_minor": 5
}
