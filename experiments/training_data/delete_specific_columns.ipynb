{
 "cells": [
  {
   "cell_type": "code",
   "execution_count": 1,
   "id": "915b6306-20f3-4052-a66e-e77153de9de4",
   "metadata": {},
   "outputs": [],
   "source": [
    "import csv\n",
    "\n",
    "tasks = [\"mnist_classification\", \"cifar10_classification\", \"cifar10_deep_classification\"]\n",
    "for task in tasks:\n",
    "    with open(f\"{task}.csv\", \"r\") as f_input, open(f\"{task}_output.csv\", \"w\", newline=\"\") as f_output:\n",
    "        csv_reader = csv.reader(f_input)\n",
    "        header = next(csv_reader)\n",
    "        columns_to_keep = [col for col in header if col not in [\"loss\", \"accuracy\"]]\n",
    "        csv_writer = csv.writer(f_output)\n",
    "        csv_writer.writerow(columns_to_keep)\n",
    "\n",
    "        for row in csv_reader:\n",
    "            values_to_keep = [row[header.index(col)] for col in columns_to_keep]\n",
    "            csv_writer.writerow(values_to_keep)\n"
   ]
  }
 ],
 "metadata": {
  "kernelspec": {
   "display_name": "Python 3",
   "language": "python",
   "name": "python3"
  },
  "language_info": {
   "codemirror_mode": {
    "name": "ipython",
    "version": 3
   },
   "file_extension": ".py",
   "mimetype": "text/x-python",
   "name": "python",
   "nbconvert_exporter": "python",
   "pygments_lexer": "ipython3",
   "version": "3.8.10"
  },
  "vscode": {
   "interpreter": {
    "hash": "916dbcbb3f70747c44a77c7bcd40155683ae19c65e1c03b4aa3499c5328201f1"
   }
  }
 },
 "nbformat": 4,
 "nbformat_minor": 5
}
