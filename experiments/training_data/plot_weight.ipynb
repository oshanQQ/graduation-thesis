{
 "cells": [
  {
   "cell_type": "code",
   "execution_count": 1,
   "id": "d640c374-0a71-49ed-b6cc-598356426d72",
   "metadata": {},
   "outputs": [
    {
     "name": "stdout",
     "output_type": "stream",
     "text": [
      "2 layer perceptron\n",
      "========================================\n",
      "mnist_classification\n",
      "[-0.01285696  0.54008374 -0.25226827 -0.23678224]\n",
      "========================================\n",
      "cifar10_classification\n",
      "[-0.06620581  2.05091343 -5.68929198 -0.70034147]\n",
      "========================================\n",
      "cifar10_deep_classification\n",
      "[ 0.00952939  5.01498954  3.46986795 -1.62088255]\n",
      "========================================\n",
      "all_classification\n",
      "[-0.06986106  2.50171748 -3.68002805  0.94597626]\n"
     ]
    }
   ],
   "source": [
    "import pandas as pd\n",
    "from sklearn.linear_model import Perceptron\n",
    "from sklearn.linear_model import LinearRegression\n",
    "from sklearn.neural_network import MLPRegressor\n",
    "from sklearn.model_selection import train_test_split\n",
    "from sklearn.preprocessing import StandardScaler\n",
    "from sklearn.metrics import mean_squared_error\n",
    "\n",
    "\n",
    "print(\"2 layer perceptron\")\n",
    "for task in [\"mnist_classification\", \"cifar10_classification\", \"cifar10_deep_classification\", \"all_classification\"]:\n",
    "    print(\"=\" * 40)\n",
    "    print(task)\n",
    "\n",
    "    # Load the data into a pandas dataframe\n",
    "    df = pd.read_csv(f\"training_data/{task}.csv\")\n",
    "\n",
    "    # Split the data into input features (X) and output target (y)\n",
    "    X = df[['batch_size', 'epoch', 'average_memory_utilization', 'average_gpu_utilization']]\n",
    "    y = df['training_time']\n",
    "\n",
    "    # Split the data into training and test sets\n",
    "    X_train, X_test, y_train, y_test = train_test_split(X, y, test_size=0.2)\n",
    "\n",
    "    # sc = StandardScaler()\n",
    "    # sc.fit(X_train)\n",
    "    # X_train = sc.transform(X_train)\n",
    "    # X_test = sc.transform(X_test)\n",
    "\n",
    "    # Train a Perceptron model on the training data\n",
    "    model = LinearRegression()\n",
    "    model.fit(X_train, y_train)\n",
    "\n",
    "    print(model.coef_)"
   ]
  },
  {
   "cell_type": "code",
   "execution_count": 4,
   "id": "8f9d8494-9b1e-4f78-b651-44f5f4bfbaf0",
   "metadata": {},
   "outputs": [
    {
     "name": "stdout",
     "output_type": "stream",
     "text": [
      "2 layer perceptron\n",
      "========================================\n",
      "mnist_classification with epoch 10\n",
      "[-0.00475715 -0.07820823 -0.0994388 ]\n",
      "mnist_classification with epoch 20\n",
      "[-0.01053435 -0.18731763 -0.19745749]\n",
      "mnist_classification with epoch 30\n",
      "[-0.0127739  -0.24281611 -0.33596834]\n",
      "mnist_classification with epoch 40\n",
      "[-0.02101131 -0.44778225 -0.38912936]\n",
      "========================================\n",
      "cifar10_classification with epoch 10\n",
      "[-0.02972231 -2.50962314 -0.09803529]\n",
      "cifar10_classification with epoch 20\n",
      "[-0.0624954  -5.33692334 -0.22682121]\n",
      "cifar10_classification with epoch 30\n",
      "[-0.0851214  -7.27338227 -0.91452773]\n",
      "cifar10_classification with epoch 40\n",
      "[ -0.12405639 -12.02518217  -0.93394118]\n",
      "========================================\n",
      "cifar10_deep_classification with epoch 10\n",
      "[ 0.00466382  1.77655967 -0.64376862]\n",
      "cifar10_deep_classification with epoch 20\n",
      "[ 0.00821367  0.91186608 -1.49232724]\n",
      "cifar10_deep_classification with epoch 30\n",
      "[ 0.01718635  4.37592832 -2.17672061]\n",
      "cifar10_deep_classification with epoch 40\n",
      "[ 0.02001662  4.05381492 -2.98452409]\n",
      "========================================\n",
      "all_classification with epoch 10\n",
      "[-0.02801807 -1.53644598  0.38853722]\n",
      "all_classification with epoch 20\n",
      "[-0.05448193 -3.01291374  0.75331869]\n",
      "all_classification with epoch 30\n",
      "[-0.0821298  -4.42969314  1.16343136]\n",
      "all_classification with epoch 40\n",
      "[-0.11922878 -6.29306038  1.44605052]\n"
     ]
    }
   ],
   "source": [
    "print(\"2 layer perceptron\")\n",
    "for task in [\"mnist_classification\", \"cifar10_classification\", \"cifar10_deep_classification\", \"all_classification\"]:\n",
    "    print(\"=\" * 40)\n",
    "    for epoch in [10, 20, 30, 40]:\n",
    "        print(f\"{task} with epoch {epoch}\")\n",
    "\n",
    "        # Load the data into a pandas dataframe\n",
    "        df = pd.read_csv(f\"training_data/{task}_with_epoch_{epoch}.csv\")\n",
    "\n",
    "        # Split the data into input features (X) and output target (y)\n",
    "        X = df[['batch_size', 'average_memory_utilization', 'average_gpu_utilization']]\n",
    "        y = df['training_time']\n",
    "\n",
    "        # Split the data into training and test sets\n",
    "        X_train, X_test, y_train, y_test = train_test_split(X, y, test_size=0.2)\n",
    "\n",
    "        # sc = StandardScaler()\n",
    "        # sc.fit(X_train)\n",
    "        # X_train = sc.transform(X_train)\n",
    "        # X_test = sc.transform(X_test)\n",
    "\n",
    "        # Train a Perceptron model on the training data\n",
    "        model = LinearRegression()\n",
    "        model.fit(X_train, y_train)\n",
    "\n",
    "        print(model.coef_)"
   ]
  },
  {
   "cell_type": "code",
   "execution_count": null,
   "id": "cc879b61-e4af-428e-aec6-94263693fa57",
   "metadata": {},
   "outputs": [],
   "source": []
  }
 ],
 "metadata": {
  "kernelspec": {
   "display_name": "Python 3 (ipykernel)",
   "language": "python",
   "name": "python3"
  },
  "language_info": {
   "codemirror_mode": {
    "name": "ipython",
    "version": 3
   },
   "file_extension": ".py",
   "mimetype": "text/x-python",
   "name": "python",
   "nbconvert_exporter": "python",
   "pygments_lexer": "ipython3",
   "version": "3.10.5"
  }
 },
 "nbformat": 4,
 "nbformat_minor": 5
}
