{
 "cells": [
  {
   "cell_type": "code",
   "execution_count": 2,
   "id": "a0d12bde-32cc-492a-9c1b-54d983f5a5d9",
   "metadata": {},
   "outputs": [],
   "source": [
    "import pandas as pd\n",
    "\n",
    "\n",
    "# Read in the three CSV files\n",
    "df1 = pd.read_csv('mnist_classification.csv')\n",
    "df2 = pd.read_csv('cifar10_classification.csv')\n",
    "df3 = pd.read_csv('cifar10_deep_classification.csv')\n",
    "\n",
    "# Combine the data using the concat method\n",
    "df_combined = pd.concat([df1, df2, df3], axis=0)\n",
    "\n",
    "# Write the combined data to a new CSV file\n",
    "df_combined.to_csv('all_classification.csv', index=False)"
   ]
  }
 ],
 "metadata": {
  "kernelspec": {
   "display_name": "Python 3 (ipykernel)",
   "language": "python",
   "name": "python3"
  },
  "language_info": {
   "codemirror_mode": {
    "name": "ipython",
    "version": 3
   },
   "file_extension": ".py",
   "mimetype": "text/x-python",
   "name": "python",
   "nbconvert_exporter": "python",
   "pygments_lexer": "ipython3",
   "version": "3.10.5"
  }
 },
 "nbformat": 4,
 "nbformat_minor": 5
}
