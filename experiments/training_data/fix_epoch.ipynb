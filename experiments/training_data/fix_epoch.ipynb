{
 "cells": [
  {
   "cell_type": "code",
   "execution_count": 4,
   "id": "cd3f339c-decb-4d7e-841a-e05397a4850c",
   "metadata": {},
   "outputs": [],
   "source": [
    "import pandas as pd\n",
    "\n",
    "for task in [\"mnist_classification\", \"cifar10_classification\", \"cifar10_deep_classification\"]:\n",
    "    for epoch in range(10, 41, 10):\n",
    "        # Load the CSV file into a pandas dataframe\n",
    "        df = pd.read_csv(f'{task}.csv')\n",
    "\n",
    "        # Fix the value of the number of epochs to 100 for all rows\n",
    "        df['epoch'] = int(epoch)\n",
    "\n",
    "        # Write the modified dataframe back to the file\n",
    "        df.to_csv(f'{task}_with_epoch_{epoch}.csv', index=False)"
   ]
  }
 ],
 "metadata": {
  "kernelspec": {
   "display_name": "Python 3 (ipykernel)",
   "language": "python",
   "name": "python3"
  },
  "language_info": {
   "codemirror_mode": {
    "name": "ipython",
    "version": 3
   },
   "file_extension": ".py",
   "mimetype": "text/x-python",
   "name": "python",
   "nbconvert_exporter": "python",
   "pygments_lexer": "ipython3",
   "version": "3.10.5"
  }
 },
 "nbformat": 4,
 "nbformat_minor": 5
}
