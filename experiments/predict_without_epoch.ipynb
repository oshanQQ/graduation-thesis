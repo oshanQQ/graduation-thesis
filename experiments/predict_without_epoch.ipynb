{
 "cells": [
  {
   "cell_type": "code",
   "execution_count": 1,
   "id": "73f6ae52-dc36-467c-9f38-f8e9a48df59c",
   "metadata": {},
   "outputs": [
    {
     "name": "stdout",
     "output_type": "stream",
     "text": [
      "========================================\n",
      "mnist_classification\n",
      "Test score:  -1.5214268479899546\n",
      "========================================\n",
      "cifar10_classification\n",
      "Test score:  -2.9967649064103252\n",
      "========================================\n",
      "cifar10_deep_classification\n",
      "Test score:  -2.5274610758475364\n"
     ]
    },
    {
     "name": "stderr",
     "output_type": "stream",
     "text": [
      "/opt/conda/lib/python3.10/site-packages/sklearn/neural_network/_multilayer_perceptron.py:702: ConvergenceWarning: Stochastic Optimizer: Maximum iterations (1000) reached and the optimization hasn't converged yet.\n",
      "  warnings.warn(\n"
     ]
    }
   ],
   "source": [
    "import pandas as pd\n",
    "from sklearn.neural_network import MLPRegressor\n",
    "from sklearn.model_selection import train_test_split\n",
    "\n",
    "for task in [\"mnist_classification\", \"cifar10_classification\", \"cifar10_deep_classification\"]:\n",
    "    print(\"=\" * 40)\n",
    "    print(task)\n",
    "\n",
    "    # Load the data into a pandas dataframe\n",
    "    df = pd.read_csv(f\"training_data/{task}.csv\")\n",
    "\n",
    "    # Split the data into input features and target output\n",
    "    X = df[['batch_size', 'average_memory_utilization', 'average_gpu_utilization']]\n",
    "    y = df['training_time']\n",
    "\n",
    "    # Split the data into training and testing sets\n",
    "    X_train, X_test, y_train, y_test = train_test_split(X, y, test_size=0.2)\n",
    "\n",
    "    # Train a 2-layer perceptron model\n",
    "    mlp = MLPRegressor(hidden_layer_sizes=(100,), max_iter=1000)\n",
    "    mlp.fit(X_train, y_train)\n",
    "\n",
    "    # Evaluate the model on the test data\n",
    "    score = mlp.score(X_test, y_test)\n",
    "    print(\"Test score: \", score)"
   ]
  },
  {
   "cell_type": "code",
   "execution_count": 2,
   "id": "58a6bd3c-215f-44a5-af65-33dc39a738b4",
   "metadata": {},
   "outputs": [
    {
     "name": "stdout",
     "output_type": "stream",
     "text": [
      "========================================\n",
      "mnist_classification\n",
      "Test score:  -4.422825048987254\n",
      "========================================\n",
      "cifar10_classification\n",
      "Test score:  -2.6344690786383937\n",
      "========================================\n",
      "cifar10_deep_classification\n",
      "Test score:  0.025667482539369457\n"
     ]
    }
   ],
   "source": [
    "import pandas as pd\n",
    "from sklearn.neural_network import MLPRegressor\n",
    "from sklearn.model_selection import train_test_split\n",
    "\n",
    "for task in [\"mnist_classification\", \"cifar10_classification\", \"cifar10_deep_classification\"]:\n",
    "    print(\"=\" * 40)\n",
    "    print(task)\n",
    "\n",
    "    # Load the data into a pandas dataframe\n",
    "    df = pd.read_csv(f\"training_data/{task}.csv\")\n",
    "\n",
    "    # Split the data into input features and target output\n",
    "    X = df[['batch_size', 'average_memory_utilization', 'average_gpu_utilization']]\n",
    "    y = df['training_time']\n",
    "\n",
    "    # Split the data into training and testing sets\n",
    "    X_train, X_test, y_train, y_test = train_test_split(X, y, test_size=0.2)\n",
    "\n",
    "    # Train a 3-layer perceptron model\n",
    "    mlp = MLPRegressor(hidden_layer_sizes=(100, 50, 20), max_iter=1000)\n",
    "    mlp.fit(X_train, y_train)\n",
    "\n",
    "    # Evaluate the model on the test data\n",
    "    score = mlp.score(X_test, y_test)\n",
    "    print(\"Test score: \", score)"
   ]
  },
  {
   "cell_type": "code",
   "execution_count": null,
   "id": "5a88ff21-b00b-4a38-a4a7-baabd034dbad",
   "metadata": {},
   "outputs": [],
   "source": []
  }
 ],
 "metadata": {
  "kernelspec": {
   "display_name": "Python 3",
   "language": "python",
   "name": "python3"
  },
  "language_info": {
   "codemirror_mode": {
    "name": "ipython",
    "version": 3
   },
   "file_extension": ".py",
   "mimetype": "text/x-python",
   "name": "python",
   "nbconvert_exporter": "python",
   "pygments_lexer": "ipython3",
   "version": "3.8.10"
  },
  "vscode": {
   "interpreter": {
    "hash": "916dbcbb3f70747c44a77c7bcd40155683ae19c65e1c03b4aa3499c5328201f1"
   }
  }
 },
 "nbformat": 4,
 "nbformat_minor": 5
}
