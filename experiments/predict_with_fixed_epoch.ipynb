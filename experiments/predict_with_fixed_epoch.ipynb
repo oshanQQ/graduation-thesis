{
 "cells": [
  {
   "cell_type": "code",
   "execution_count": 14,
   "id": "73f6ae52-dc36-467c-9f38-f8e9a48df59c",
   "metadata": {},
   "outputs": [
    {
     "name": "stdout",
     "output_type": "stream",
     "text": [
      "2 layer perceptron\n",
      "========================================\n",
      "mnist_classification\n",
      "Test score with epoch 10:  -3.8859545411723415\n",
      "Test score with epoch 20:  -4.661616276932539\n",
      "Test score with epoch 30:  -1.630592520485274\n",
      "Test score with epoch 40:  -1.3792808501005007\n",
      "========================================\n",
      "cifar10_classification\n",
      "Test score with epoch 10:  -3.254538753387296\n",
      "Test score with epoch 20:  -2.1301702667885083\n",
      "Test score with epoch 30:  -0.3325843163825104\n",
      "Test score with epoch 40:  -1.40771597097971\n",
      "========================================\n",
      "cifar10_deep_classification\n",
      "Test score with epoch 10:  -1.7624981158510828\n",
      "Test score with epoch 20:  -1.5340774799042456\n",
      "Test score with epoch 30:  -0.5552942982516649\n",
      "Test score with epoch 40:  -1.9116655421384015\n"
     ]
    }
   ],
   "source": [
    "import pandas as pd\n",
    "from sklearn.neural_network import MLPRegressor\n",
    "from sklearn.model_selection import train_test_split\n",
    "\n",
    "print(\"2 layer perceptron\")\n",
    "for task in [\"mnist_classification\", \"cifar10_classification\", \"cifar10_deep_classification\"]:\n",
    "    print(\"=\" * 40)\n",
    "    print(task)\n",
    "    \n",
    "    for epoch in range(10, 41, 10):\n",
    "\n",
    "        # Load the data into a pandas dataframe\n",
    "        df = pd.read_csv(f\"training_data/{task}_with_epoch_{epoch}.csv\")\n",
    "\n",
    "        # Split the data into input features and target output\n",
    "        X = df[['batch_size', 'average_memory_utilization', 'average_gpu_utilization']]\n",
    "        y = df['training_time']\n",
    "\n",
    "        # Split the data into training and testing sets\n",
    "        X_train, X_test, y_train, y_test = train_test_split(X, y, test_size=0.2)\n",
    "\n",
    "        # Train a 2-layer perceptron model\n",
    "        mlp = MLPRegressor(hidden_layer_sizes=(100,), max_iter=100000)\n",
    "        mlp.fit(X_train, y_train)\n",
    "\n",
    "        # Evaluate the model on the test data\n",
    "        score = mlp.score(X_test, y_test)\n",
    "        print(f\"Test score with epoch {epoch}: \", score)"
   ]
  },
  {
   "cell_type": "code",
   "execution_count": 15,
   "id": "5a88ff21-b00b-4a38-a4a7-baabd034dbad",
   "metadata": {},
   "outputs": [
    {
     "name": "stdout",
     "output_type": "stream",
     "text": [
      "3layer neural network\n",
      "========================================\n",
      "mnist_classification\n",
      "Test score with epoch 10:  0.2454042921370979\n",
      "Test score with epoch 20:  -1.9510102694900873\n",
      "Test score with epoch 30:  -2.5125299379726043\n",
      "Test score with epoch 40:  0.13138939212065237\n",
      "========================================\n",
      "cifar10_classification\n",
      "Test score with epoch 10:  0.17385603845503184\n",
      "Test score with epoch 20:  0.1485011170633196\n",
      "Test score with epoch 30:  0.5016923153407682\n",
      "Test score with epoch 40:  -2.034600989599609\n",
      "========================================\n",
      "cifar10_deep_classification\n",
      "Test score with epoch 10:  -1.609704004077201\n",
      "Test score with epoch 20:  -0.18691819321959136\n",
      "Test score with epoch 30:  -0.15822964066905687\n",
      "Test score with epoch 40:  -0.5741662139933341\n"
     ]
    }
   ],
   "source": [
    "import pandas as pd\n",
    "from sklearn.neural_network import MLPRegressor\n",
    "from sklearn.model_selection import train_test_split\n",
    "\n",
    "print(\"3layer neural network\")\n",
    "for task in [\"mnist_classification\", \"cifar10_classification\", \"cifar10_deep_classification\"]:\n",
    "    print(\"=\" * 40)\n",
    "    print(task)\n",
    "    \n",
    "    for epoch in range(10, 41, 10):\n",
    "\n",
    "        # Load the data into a pandas dataframe\n",
    "        df = pd.read_csv(f\"training_data/{task}_with_epoch_{epoch}.csv\")\n",
    "\n",
    "        # Split the data into input features and target output\n",
    "        X = df[['batch_size', 'average_memory_utilization', 'average_gpu_utilization']]\n",
    "        y = df['training_time']\n",
    "\n",
    "        # Split the data into training and testing sets\n",
    "        X_train, X_test, y_train, y_test = train_test_split(X, y, test_size=0.2)\n",
    "\n",
    "        # Train a 2-layer perceptron model\n",
    "        mlp = MLPRegressor(hidden_layer_sizes=(100, 50, 20), max_iter=100000)\n",
    "        mlp.fit(X_train, y_train)\n",
    "\n",
    "        # Evaluate the model on the test data\n",
    "        score = mlp.score(X_test, y_test)\n",
    "        print(f\"Test score with epoch {epoch}: \", score)"
   ]
  },
  {
   "cell_type": "code",
   "execution_count": null,
   "id": "d963177c-7f95-4844-a417-28b8ddf40ee3",
   "metadata": {},
   "outputs": [],
   "source": []
  }
 ],
 "metadata": {
  "kernelspec": {
   "display_name": "Python 3",
   "language": "python",
   "name": "python3"
  },
  "language_info": {
   "codemirror_mode": {
    "name": "ipython",
    "version": 3
   },
   "file_extension": ".py",
   "mimetype": "text/x-python",
   "name": "python",
   "nbconvert_exporter": "python",
   "pygments_lexer": "ipython3",
   "version": "3.8.10"
  },
  "vscode": {
   "interpreter": {
    "hash": "916dbcbb3f70747c44a77c7bcd40155683ae19c65e1c03b4aa3499c5328201f1"
   }
  }
 },
 "nbformat": 4,
 "nbformat_minor": 5
}
