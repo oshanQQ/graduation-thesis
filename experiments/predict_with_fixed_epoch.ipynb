{
 "cells": [
  {
   "cell_type": "code",
   "execution_count": 12,
   "id": "73f6ae52-dc36-467c-9f38-f8e9a48df59c",
   "metadata": {},
   "outputs": [
    {
     "name": "stdout",
     "output_type": "stream",
     "text": [
      "2 layer perceptron\n",
      "========================================\n",
      "mnist_classification\n",
      "Test score with epoch 100:  -2.56822551951475\n",
      "Test score with epoch 200:  -6.969068499822356\n",
      "Test score with epoch 300:  -7.322478166978769\n",
      "Test score with epoch 400:  0.13920073349479134\n",
      "Test score with epoch 500:  -70.17289990121265\n",
      "Test score with epoch 600:  0.3092569588783699\n",
      "Test score with epoch 700:  -2.084801493224475\n",
      "Test score with epoch 800:  -4.68382935386708\n",
      "========================================\n",
      "cifar10_classification\n",
      "Test score with epoch 100:  0.015757381850847962\n",
      "Test score with epoch 200:  0.50495658515861\n",
      "Test score with epoch 300:  -2.059463367579406\n",
      "Test score with epoch 400:  -0.4551353784898293\n",
      "Test score with epoch 500:  -0.27243556125937585\n",
      "Test score with epoch 600:  0.43830032178365363\n",
      "Test score with epoch 700:  -1.8609505277411444\n",
      "Test score with epoch 800:  -2.6925452704672614\n",
      "========================================\n",
      "cifar10_deep_classification\n",
      "Test score with epoch 100:  -2.0289844942332915\n",
      "Test score with epoch 200:  -0.9523971060438159\n",
      "Test score with epoch 300:  -0.8904898940375869\n",
      "Test score with epoch 400:  -1.8162965560332571\n",
      "Test score with epoch 500:  -0.23400486722722702\n",
      "Test score with epoch 600:  -3.651885157532691\n",
      "Test score with epoch 700:  -1.0014820311451786\n",
      "Test score with epoch 800:  -3.3835359616513863\n"
     ]
    }
   ],
   "source": [
    "import pandas as pd\n",
    "from sklearn.neural_network import MLPRegressor\n",
    "from sklearn.model_selection import train_test_split\n",
    "\n",
    "print(\"2 layer perceptron\")\n",
    "for task in [\"mnist_classification\", \"cifar10_classification\", \"cifar10_deep_classification\"]:\n",
    "    print(\"=\" * 40)\n",
    "    print(task)\n",
    "    \n",
    "    for epoch in range(100, 801, 100):\n",
    "\n",
    "        # Load the data into a pandas dataframe\n",
    "        df = pd.read_csv(f\"training_data/{task}_with_epoch_{epoch}.csv\")\n",
    "\n",
    "        # Split the data into input features and target output\n",
    "        X = df[['batch_size', 'average_memory_utilization', 'average_gpu_utilization']]\n",
    "        y = df['training_time']\n",
    "\n",
    "        # Split the data into training and testing sets\n",
    "        X_train, X_test, y_train, y_test = train_test_split(X, y, test_size=0.2)\n",
    "\n",
    "        # Train a 2-layer perceptron model\n",
    "        mlp = MLPRegressor(hidden_layer_sizes=(100,), max_iter=100000)\n",
    "        mlp.fit(X_train, y_train)\n",
    "\n",
    "        # Evaluate the model on the test data\n",
    "        score = mlp.score(X_test, y_test)\n",
    "        print(f\"Test score with epoch {epoch}: \", score)"
   ]
  },
  {
   "cell_type": "code",
   "execution_count": 13,
   "id": "5a88ff21-b00b-4a38-a4a7-baabd034dbad",
   "metadata": {},
   "outputs": [
    {
     "name": "stdout",
     "output_type": "stream",
     "text": [
      "3layer neural network\n",
      "========================================\n",
      "mnist_classification\n",
      "Test score with epoch 100:  0.3834499286313442\n",
      "Test score with epoch 200:  0.5583649287823647\n",
      "Test score with epoch 300:  -11.873186320557725\n",
      "Test score with epoch 400:  -0.9098127128629532\n",
      "Test score with epoch 500:  -0.8810042243196317\n",
      "Test score with epoch 600:  0.2109530270701524\n",
      "Test score with epoch 700:  -1.285562342172382\n",
      "Test score with epoch 800:  -2.434148029112246\n",
      "========================================\n",
      "cifar10_classification\n",
      "Test score with epoch 100:  -0.8258702729938772\n",
      "Test score with epoch 200:  -0.6962540946268108\n",
      "Test score with epoch 300:  -0.004000552250056577\n",
      "Test score with epoch 400:  0.08021896445016663\n",
      "Test score with epoch 500:  -0.4301522459168772\n",
      "Test score with epoch 600:  -10.871994188959686\n",
      "Test score with epoch 700:  -0.7511352332453405\n",
      "Test score with epoch 800:  -0.4815917026944172\n",
      "========================================\n",
      "cifar10_deep_classification\n",
      "Test score with epoch 100:  -1.622771484489407\n",
      "Test score with epoch 200:  -0.29341737891916386\n",
      "Test score with epoch 300:  0.07135970349149856\n",
      "Test score with epoch 400:  -0.4317280516844755\n",
      "Test score with epoch 500:  -0.641240167603699\n",
      "Test score with epoch 600:  -1.0942714227155346\n",
      "Test score with epoch 700:  -0.1367822760295727\n",
      "Test score with epoch 800:  0.030194614800715502\n"
     ]
    }
   ],
   "source": [
    "import pandas as pd\n",
    "from sklearn.neural_network import MLPRegressor\n",
    "from sklearn.model_selection import train_test_split\n",
    "\n",
    "print(\"3layer neural network\")\n",
    "for task in [\"mnist_classification\", \"cifar10_classification\", \"cifar10_deep_classification\"]:\n",
    "    print(\"=\" * 40)\n",
    "    print(task)\n",
    "    \n",
    "    for epoch in range(100, 801, 100):\n",
    "\n",
    "        # Load the data into a pandas dataframe\n",
    "        df = pd.read_csv(f\"training_data/{task}_with_epoch_{epoch}.csv\")\n",
    "\n",
    "        # Split the data into input features and target output\n",
    "        X = df[['batch_size', 'average_memory_utilization', 'average_gpu_utilization']]\n",
    "        y = df['training_time']\n",
    "\n",
    "        # Split the data into training and testing sets\n",
    "        X_train, X_test, y_train, y_test = train_test_split(X, y, test_size=0.2)\n",
    "\n",
    "        # Train a 2-layer perceptron model\n",
    "        mlp = MLPRegressor(hidden_layer_sizes=(100, 50, 20), max_iter=100000)\n",
    "        mlp.fit(X_train, y_train)\n",
    "\n",
    "        # Evaluate the model on the test data\n",
    "        score = mlp.score(X_test, y_test)\n",
    "        print(f\"Test score with epoch {epoch}: \", score)"
   ]
  },
  {
   "cell_type": "code",
   "execution_count": null,
   "id": "d963177c-7f95-4844-a417-28b8ddf40ee3",
   "metadata": {},
   "outputs": [],
   "source": []
  }
 ],
 "metadata": {
  "kernelspec": {
   "display_name": "Python 3",
   "language": "python",
   "name": "python3"
  },
  "language_info": {
   "codemirror_mode": {
    "name": "ipython",
    "version": 3
   },
   "file_extension": ".py",
   "mimetype": "text/x-python",
   "name": "python",
   "nbconvert_exporter": "python",
   "pygments_lexer": "ipython3",
   "version": "3.8.10"
  },
  "vscode": {
   "interpreter": {
    "hash": "916dbcbb3f70747c44a77c7bcd40155683ae19c65e1c03b4aa3499c5328201f1"
   }
  }
 },
 "nbformat": 4,
 "nbformat_minor": 5
}
