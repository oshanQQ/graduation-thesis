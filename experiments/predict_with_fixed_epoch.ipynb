{
 "cells": [
  {
   "cell_type": "code",
   "execution_count": 5,
   "id": "9d5ef5bb-a824-436e-91a1-aa7f720b5240",
   "metadata": {},
   "outputs": [
    {
     "name": "stdout",
     "output_type": "stream",
     "text": [
      "2 layer perceptron\n",
      "========================================\n",
      "mnist_classification\n",
      "Test score with epoch 10:  -3.129833314103132\n",
      "Test score with epoch 20:  -1.9361517532865375\n",
      "Test score with epoch 30:  0.07226752392556944\n",
      "Test score with epoch 40:  0.24654278360306114\n",
      "========================================\n",
      "cifar10_classification\n",
      "Test score with epoch 10:  0.1633794298913961\n",
      "Test score with epoch 20:  0.11294847355896094\n",
      "Test score with epoch 30:  -1.1216105579900355\n",
      "Test score with epoch 40:  -0.044084586985524456\n",
      "========================================\n",
      "cifar10_deep_classification\n",
      "Test score with epoch 10:  -0.04210804709541893\n",
      "Test score with epoch 20:  -0.012866647482987492\n",
      "Test score with epoch 30:  -0.1123247215520225\n",
      "Test score with epoch 40:  -0.0003785171057371084\n",
      "========================================\n",
      "all_classification\n",
      "Test score with epoch 10:  0.580022864616936\n",
      "Test score with epoch 20:  0.5340248815320173\n",
      "Test score with epoch 30:  0.5346916049521444\n",
      "Test score with epoch 40:  0.6393611189958843\n"
     ]
    }
   ],
   "source": [
    "import pandas as pd\n",
    "from sklearn.neural_network import MLPRegressor\n",
    "from sklearn.model_selection import train_test_split\n",
    "\n",
    "print(\"2 layer perceptron\")\n",
    "for task in [\"mnist_classification\", \"cifar10_classification\", \"cifar10_deep_classification\", \"all_classification\"]:\n",
    "    print(\"=\" * 40)\n",
    "    print(task)\n",
    "    \n",
    "    for epoch in range(10, 41, 10):\n",
    "\n",
    "        # Load the data into a pandas dataframe\n",
    "        df = pd.read_csv(f\"training_data/{task}_with_epoch_{epoch}.csv\")\n",
    "\n",
    "        # Split the data into input features and target output\n",
    "        X = df[['batch_size', 'average_memory_utilization', 'average_gpu_utilization']]\n",
    "        y = df['training_time']\n",
    "\n",
    "        # Split the data into training and testing sets\n",
    "        X_train, X_test, y_train, y_test = train_test_split(X, y, test_size=0.2)\n",
    "\n",
    "        # Train a 2-layer perceptron model\n",
    "        mlp = MLPRegressor(hidden_layer_sizes=(100,), max_iter=100000)\n",
    "        mlp.fit(X_train, y_train)\n",
    "        \n",
    "        # Calculate average score\n",
    "        total_score = 0\n",
    "        for _ in range(100):\n",
    "            # Evaluate the model on the test data\n",
    "            total_score += mlp.score(X_test, y_test)\n",
    "        print(f\"Test score with epoch {epoch}: \", total_score / 100)"
   ]
  },
  {
   "cell_type": "code",
   "execution_count": 6,
   "id": "57162cd7-d7b1-4945-a132-ac7f60370d42",
   "metadata": {},
   "outputs": [
    {
     "name": "stdout",
     "output_type": "stream",
     "text": [
      "2 layer perceptron\n",
      "========================================\n",
      "mnist_classification\n",
      "Test score with epoch 10:  0.05987233740403486\n",
      "Test score with epoch 20:  -0.18609817160151607\n",
      "Test score with epoch 30:  0.19864405690345918\n",
      "Test score with epoch 40:  0.1206244476858222\n",
      "========================================\n",
      "cifar10_classification\n",
      "Test score with epoch 10:  0.04627532161702277\n",
      "Test score with epoch 20:  0.10841101661714042\n",
      "Test score with epoch 30:  0.08104065921916993\n",
      "Test score with epoch 40:  -0.06236844901998584\n",
      "========================================\n",
      "cifar10_deep_classification\n",
      "Test score with epoch 10:  -0.011592208612071886\n",
      "Test score with epoch 20:  0.05159919108010594\n",
      "Test score with epoch 30:  0.022252609641672878\n",
      "Test score with epoch 40:  0.035263564047141455\n",
      "========================================\n",
      "all_classification\n",
      "Test score with epoch 10:  0.6055392351148452\n",
      "Test score with epoch 20:  0.6257793413933542\n",
      "Test score with epoch 30:  0.5496265261400005\n",
      "Test score with epoch 40:  0.6278940472246216\n"
     ]
    }
   ],
   "source": [
    "import pandas as pd\n",
    "from sklearn.neural_network import MLPRegressor\n",
    "from sklearn.model_selection import train_test_split\n",
    "\n",
    "print(\"2 layer perceptron\")\n",
    "for task in [\"mnist_classification\", \"cifar10_classification\", \"cifar10_deep_classification\", \"all_classification\"]:\n",
    "    print(\"=\" * 40)\n",
    "    print(task)\n",
    "    \n",
    "    for epoch in range(10, 41, 10):\n",
    "\n",
    "        # Load the data into a pandas dataframe\n",
    "        df = pd.read_csv(f\"training_data/{task}_with_epoch_{epoch}.csv\")\n",
    "\n",
    "        # Split the data into input features and target output\n",
    "        X = df[['batch_size', 'average_memory_utilization', 'average_gpu_utilization']]\n",
    "        y = df['training_time']\n",
    "\n",
    "        # Split the data into training and testing sets\n",
    "        X_train, X_test, y_train, y_test = train_test_split(X, y, test_size=0.2)\n",
    "\n",
    "        # Train a 2-layer perceptron model\n",
    "        mlp = MLPRegressor(hidden_layer_sizes=(100, 50, 20), max_iter=100000)\n",
    "        mlp.fit(X_train, y_train)\n",
    "        \n",
    "        # Calculate average score\n",
    "        total_score = 0\n",
    "        for _ in range(100):\n",
    "            # Evaluate the model on the test data\n",
    "            total_score += mlp.score(X_test, y_test)\n",
    "        print(f\"Test score with epoch {epoch}: \", total_score / 100)"
   ]
  }
 ],
 "metadata": {
  "kernelspec": {
   "display_name": "Python 3 (ipykernel)",
   "language": "python",
   "name": "python3"
  },
  "language_info": {
   "codemirror_mode": {
    "name": "ipython",
    "version": 3
   },
   "file_extension": ".py",
   "mimetype": "text/x-python",
   "name": "python",
   "nbconvert_exporter": "python",
   "pygments_lexer": "ipython3",
   "version": "3.10.5"
  }
 },
 "nbformat": 4,
 "nbformat_minor": 5
}
